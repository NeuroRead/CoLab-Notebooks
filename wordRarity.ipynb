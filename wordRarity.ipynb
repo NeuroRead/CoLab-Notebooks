{
  "nbformat": 4,
  "nbformat_minor": 0,
  "metadata": {
    "colab": {
      "provenance": [],
      "authorship_tag": "ABX9TyOPihEUlqlq3hbzvH1XbKU9",
      "include_colab_link": true
    },
    "kernelspec": {
      "name": "python3",
      "display_name": "Python 3"
    },
    "language_info": {
      "name": "python"
    }
  },
  "cells": [
    {
      "cell_type": "markdown",
      "metadata": {
        "id": "view-in-github",
        "colab_type": "text"
      },
      "source": [
        "<a href=\"https://colab.research.google.com/github/NeuroRead/CoLab-Notebooks/blob/main/wordRarity.ipynb\" target=\"_parent\"><img src=\"https://colab.research.google.com/assets/colab-badge.svg\" alt=\"Open In Colab\"/></a>"
      ]
    },
    {
      "cell_type": "code",
      "execution_count": null,
      "metadata": {
        "colab": {
          "base_uri": "https://localhost:8080/"
        },
        "id": "td1kjMOBkM0e",
        "outputId": "85efc28d-3a34-4dba-fe62-25e87561b56e"
      },
      "outputs": [
        {
          "output_type": "stream",
          "name": "stderr",
          "text": [
            "[nltk_data] Downloading package punkt to /root/nltk_data...\n",
            "[nltk_data]   Package punkt is already up-to-date!\n"
          ]
        },
        {
          "output_type": "stream",
          "name": "stdout",
          "text": [
            "uncommon ['wave-particle', 'schrödinger', 'cryptography', 'counterintuitive', 'embracing']\n"
          ]
        }
      ],
      "source": [
        "\n",
        "sample = \"The intricacies of quantum mechanics have confounded scientists and theorists alike since its inception. The wave-particle duality of quantum objects, the uncertainty principle, and the observer effect have challenged our understanding of reality at its most fundamental level. From Schrödinger's cat to entanglement, the implications of quantum mechanics reach far beyond the microscopic world, with potential applications in cryptography, computing, and communication. However, as we delve deeper into the quantum realm, we must abandon our classical intuitions and embrace the counterintuitive nature of this field. It is a world where particles can exist in multiple states simultaneously, where the act of measurement can change the outcome of an experiment, and where the concept of causality becomes blurred. Only by constantly challenging our assumptions and embracing the unknown can we hope to unravel the mysteries of the quantum universe.\"\n",
        "sample = sample.lower()\n",
        "import requests, nltk\n",
        "nltk.download('punkt')\n",
        "\n",
        "tokenizer = nltk.data.load('tokenizers/punkt/english.pickle')\n",
        "sentences = tokenizer.tokenize(sample)\n",
        "\n",
        "all_words = []\n",
        "\n",
        "for sentence in sentences:\n",
        "  words = nltk.word_tokenize(sentence)\n",
        "  for word in words:\n",
        "    all_words.append(word)\n",
        "    if word == \",\":\n",
        "      all_words.remove(\",\")\n",
        "    if word == \".\":\n",
        "      all_words.remove(\".\")\n",
        "    if word == \"?\":\n",
        "      all_words.remove(\"?\")\n",
        "    if word == \"!\":\n",
        "      all_words.remove(\"!\")\n",
        "    if word == \":\":\n",
        "      all_words.remove(\":\")\n",
        "    \n",
        "english_most_common_10k = 'https://gist.githubusercontent.com/h3xx/1976236/raw/bbabb412261386673eff521dddbe1dc815373b1d/wiki-100k.txt'\n",
        "\n",
        "# Get the file of 10 k most common words from TXT file in a github repo\n",
        "response = requests.get(english_most_common_10k)\n",
        "data = response.text\n",
        "set_of_common_words = {x for x in data.split('\\n')}\n",
        "\n",
        "# Once we have the set of common words, we can just check.\n",
        "# The check is in average case O(1) operation,\n",
        "# but you can use for example some sort of search three with O(log(n)) complexity\n",
        "\n",
        "uncommon_words = []\n",
        "for word in all_words:\n",
        "  if word in set_of_common_words:\n",
        "      next\n",
        "  else:\n",
        "      uncommon_words.append(word)\n",
        "\n",
        "print(\"uncommon\", uncommon_words)"
      ]
    }
  ]
}